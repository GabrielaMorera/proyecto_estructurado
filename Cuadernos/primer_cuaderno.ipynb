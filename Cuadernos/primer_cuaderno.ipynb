{
 "cells": [
  {
   "cell_type": "code",
   "execution_count": 2,
   "metadata": {},
   "outputs": [
    {
     "data": {
      "text/plain": [
       "2"
      ]
     },
     "execution_count": 2,
     "metadata": {},
     "output_type": "execute_result"
    }
   ],
   "source": [
    "1+1"
   ]
  },
  {
   "cell_type": "markdown",
   "metadata": {},
   "source": [
    "Para instalar paquetes se usa poetry porque es un gestor de dependencias, ellos ya evaluaron que paquetes sirven con que paquetes\n",
    "Para inicializar poetry en la consola se pone: poetry init\n",
    "para instalar paquetes en la consola se pone: poetry add [nombre del paquete]\n",
    "Cuando voy a abrir el proyecto de alguien con poetry y para instalar todos los paquetes que uso solo se pone en la consola el siguiente comando: poetry install"
   ]
  }
 ],
 "metadata": {
  "kernelspec": {
   "display_name": "primer_proyecto",
   "language": "python",
   "name": "python3"
  },
  "language_info": {
   "codemirror_mode": {
    "name": "ipython",
    "version": 3
   },
   "file_extension": ".py",
   "mimetype": "text/x-python",
   "name": "python",
   "nbconvert_exporter": "python",
   "pygments_lexer": "ipython3",
   "version": "3.11.11"
  }
 },
 "nbformat": 4,
 "nbformat_minor": 2
}
